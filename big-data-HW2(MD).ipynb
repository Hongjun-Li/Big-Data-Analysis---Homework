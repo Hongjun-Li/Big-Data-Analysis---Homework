{
 "cells": [
  {
   "cell_type": "markdown",
   "id": "6fc35b0c",
   "metadata": {},
   "source": []
  },
  {
   "cell_type": "code",
   "execution_count": 67,
   "id": "125d8edf",
   "metadata": {},
   "outputs": [
    {
     "name": "stdout",
     "output_type": "stream",
     "text": [
      "film_id  1      2      3      4      5      6      7      8      9      10     \\\n",
      "id                                                                              \n",
      "0          1.0    NaN    2.0    1.0    1.0    1.0    2.0    1.0    NaN    1.0   \n",
      "1          1.0    NaN    2.0    NaN    1.0    2.0    1.0    NaN    NaN    NaN   \n",
      "2          NaN    1.0    NaN    1.0    NaN    1.0    NaN    1.0    NaN    1.0   \n",
      "3          5.0    NaN    NaN    3.0    5.0    4.0    3.0    4.0    3.0    4.0   \n",
      "4          5.0    NaN    4.0    3.0    5.0    4.0    3.0    NaN    NaN    3.0   \n",
      "\n",
      "film_id  ...  9991   9992   9993   9994   9995   9996   9997   9998   9999   \\\n",
      "id       ...                                                                  \n",
      "0        ...    2.0    1.0    NaN    1.0    1.0    2.0    1.0    1.0    1.0   \n",
      "1        ...    NaN    1.0    1.0    1.0    NaN    2.0    1.0    1.0    2.0   \n",
      "2        ...    1.0    1.0    NaN    NaN    NaN    1.0    1.0    1.0    1.0   \n",
      "3        ...    5.0    3.0    NaN    4.0    5.0    5.0    5.0    4.0    NaN   \n",
      "4        ...    5.0    NaN    5.0    4.0    4.0    5.0    4.0    4.0    NaN   \n",
      "\n",
      "film_id  10000  \n",
      "id              \n",
      "0          2.0  \n",
      "1          1.0  \n",
      "2          1.0  \n",
      "3          5.0  \n",
      "4          4.0  \n",
      "\n",
      "[5 rows x 10000 columns]\n",
      "film_id  1      2      3      4      5      6      7      8      9      10     \\\n",
      "id                                                                              \n",
      "0          NaN    1.0    NaN    NaN    NaN    NaN    NaN    NaN    1.0    NaN   \n",
      "1          NaN    1.0    NaN    2.0    NaN    NaN    NaN    1.0    1.0    2.0   \n",
      "2          1.0    NaN    1.0    NaN    1.0    NaN    1.0    NaN    NaN    NaN   \n",
      "3          NaN    4.0    5.0    NaN    NaN    NaN    NaN    NaN    NaN    NaN   \n",
      "4          NaN    4.0    NaN    NaN    NaN    NaN    NaN    3.0    NaN    NaN   \n",
      "\n",
      "film_id  ...  9991   9992   9993   9994   9995   9996   9997   9998   9999   \\\n",
      "id       ...                                                                  \n",
      "0        ...    NaN    NaN    1.0    NaN    NaN    NaN    NaN    NaN    NaN   \n",
      "1        ...    1.0    NaN    NaN    NaN    NaN    NaN    NaN    NaN    NaN   \n",
      "2        ...    NaN    NaN    1.0    1.0    NaN    NaN    NaN    NaN    NaN   \n",
      "3        ...    NaN    NaN    4.0    NaN    NaN    NaN    NaN    NaN    3.0   \n",
      "4        ...    NaN    3.0    NaN    NaN    NaN    NaN    NaN    NaN    NaN   \n",
      "\n",
      "film_id  10000  \n",
      "id              \n",
      "0          NaN  \n",
      "1          NaN  \n",
      "2          NaN  \n",
      "3          NaN  \n",
      "4          NaN  \n",
      "\n",
      "[5 rows x 10000 columns]\n"
     ]
    }
   ],
   "source": [
    "import numpy as np\n",
    "import pandas as pd\n",
    "import matplotlib.pyplot as plt\n",
    "\n",
    "\n",
    "# Data preprocessing\n",
    "# Import data\n",
    "user = pd.read_csv(\"users.txt\", names = ['userid'])\n",
    "user['id'] = range(len(user))\n",
    "netflix_train = pd.read_csv(\"netflix_train.txt\", sep = ' ', names = ['user_id', 'film_id', 'rating', 'date'])\n",
    "netflix_train = netflix_train.merge(user, left_on='user_id', right_on='userid')\n",
    "netflix_test = pd.read_csv(\"netflix_test.txt\", sep = ' ', names = ['user_id', 'film_id', 'rating', 'date'])\n",
    "netflix_test = netflix_test.merge(user, left_on='user_id', right_on='userid')\n",
    "\n",
    "X_train = netflix_train.pivot(index='id', columns='film_id', values='rating')\n",
    "X_test = netflix_test.pivot(index='id', columns='film_id', values='rating')\n",
    "\n",
    "\n",
    "\n",
    "for i in range(1, 10001):\n",
    "    if i not in X_test.columns:\n",
    "        X_test[i] = np.nan\n",
    "X_test = X_test.sort_index(axis=1)\n",
    "\n",
    "print(X_train.head())\n",
    "print(X_test.head())"
   ]
  },
  {
   "cell_type": "code",
   "execution_count": 69,
   "id": "cd382e37",
   "metadata": {},
   "outputs": [],
   "source": [
    "# Matrix Decomposition\n",
    "A = X_train > 0\n",
    "X_train = np.array(X_train.fillna(0))\n",
    "U1 = np.random.randn(10000, 100)*0.1\n",
    "V1 = np.random.randn(10000, 100)*0.1\n",
    "U2 = np.random.randn(10000, 50)*0.1\n",
    "V2 = np.random.randn(10000, 50)*0.1\n",
    "U3 = np.random.randn(10000, 10)*0.1\n",
    "V3 = np.random.randn(10000, 10)*0.1\n",
    "U4 = np.random.randn(10000, 100)*0.1\n",
    "V4 = np.random.randn(10000, 100)*0.1\n",
    "U5 = np.random.randn(10000, 50)*0.1\n",
    "V5 = np.random.randn(10000, 50)*0.1\n",
    "U6 = np.random.randn(10000, 10)*0.1\n",
    "V6 = np.random.randn(10000, 10)*0.1\n",
    "alpha = 0.0001\n",
    "lamda1 = 1\n",
    "lamda2 = 0.1\n",
    "\n",
    "J = np.zeros((200, 6))\n"
   ]
  },
  {
   "cell_type": "code",
   "execution_count": 71,
   "id": "20c60e7a",
   "metadata": {},
   "outputs": [
    {
     "ename": "SyntaxError",
     "evalue": "invalid syntax (3023104680.py, line 24)",
     "output_type": "error",
     "traceback": [
      "\u001b[1;36m  Input \u001b[1;32mIn [71]\u001b[1;36m\u001b[0m\n\u001b[1;33m    dV = np.dot(np.multiply(A, (np.dot(U, V.T) - X_train)), U) + 2 * lamda1 * V\u001b[0m\n\u001b[1;37m    ^\u001b[0m\n\u001b[1;31mSyntaxError\u001b[0m\u001b[1;31m:\u001b[0m invalid syntax\n"
     ]
    }
   ],
   "source": [
    "# U1 V1 lamda1\n",
    "def MF(U, V):\n",
    "    for i in range(200):\n",
    "        dU = np.dot(np.multiply(A, (np.dot(U, V.T) - X_train)), V + 2 * lamda1 * U\n",
    "        dV = np.dot(np.multiply(A, (np.dot(U, V.T) - X_train)), U) + 2 * lamda1 * V\n",
    "        old_U = U\n",
    "        old_V = V\n",
    "        U = U - alpha/(1+0.1*i) * dU # Learning rate decay\n",
    "        V = V - alpha/(1+0.1*i) * dV\n",
    "        J[i, 0] = 1/2*np.sum(np.sum(np.square(np.multiply(A, (X_train - np.dot(U, V.T)))))) + lamda1 * np.sum(np.sum(np.square(U)))\\\n",
    "            + lamda1 * np.sum(np.sum(np.square(V)))\n",
    "        print(i)\n",
    "\n",
    "\n",
    "MF(U1, V1)"
   ]
  },
  {
   "cell_type": "code",
   "execution_count": 65,
   "id": "0b0b925d",
   "metadata": {},
   "outputs": [
    {
     "name": "stdout",
     "output_type": "stream",
     "text": [
      "0\n"
     ]
    },
    {
     "ename": "KeyboardInterrupt",
     "evalue": "",
     "output_type": "error",
     "traceback": [
      "\u001b[1;31m---------------------------------------------------------------------------\u001b[0m",
      "\u001b[1;31mKeyboardInterrupt\u001b[0m                         Traceback (most recent call last)",
      "\u001b[1;32md:\\course\\Big-data\\HW2-MD\\big-data-HW2(MD).ipynb Cell 5\u001b[0m in \u001b[0;36m<cell line: 2>\u001b[1;34m()\u001b[0m\n\u001b[0;32m      <a href='vscode-notebook-cell:/d%3A/course/Big-data/HW2-MD/big-data-HW2%28MD%29.ipynb#X24sZmlsZQ%3D%3D?line=6'>7</a>\u001b[0m U3 \u001b[39m=\u001b[39m U3 \u001b[39m-\u001b[39m alpha\u001b[39m/\u001b[39m(\u001b[39m1\u001b[39m\u001b[39m+\u001b[39m\u001b[39m0.1\u001b[39m\u001b[39m*\u001b[39mi) \u001b[39m*\u001b[39m dU \u001b[39m# Learning rate decay\u001b[39;00m\n\u001b[0;32m      <a href='vscode-notebook-cell:/d%3A/course/Big-data/HW2-MD/big-data-HW2%28MD%29.ipynb#X24sZmlsZQ%3D%3D?line=7'>8</a>\u001b[0m V3 \u001b[39m=\u001b[39m V3 \u001b[39m-\u001b[39m alpha\u001b[39m/\u001b[39m(\u001b[39m1\u001b[39m\u001b[39m+\u001b[39m\u001b[39m0.1\u001b[39m\u001b[39m*\u001b[39mi) \u001b[39m*\u001b[39m dV\n\u001b[1;32m----> <a href='vscode-notebook-cell:/d%3A/course/Big-data/HW2-MD/big-data-HW2%28MD%29.ipynb#X24sZmlsZQ%3D%3D?line=8'>9</a>\u001b[0m J[i, \u001b[39m2\u001b[39m] \u001b[39m=\u001b[39m \u001b[39m1\u001b[39m\u001b[39m/\u001b[39m\u001b[39m2\u001b[39m\u001b[39m*\u001b[39mnp\u001b[39m.\u001b[39msum(np\u001b[39m.\u001b[39msum(np\u001b[39m.\u001b[39msquare(np\u001b[39m.\u001b[39mmultiply(A, (X_train \u001b[39m-\u001b[39m np\u001b[39m.\u001b[39;49mdot(U3, V3\u001b[39m.\u001b[39;49mT)))))) \u001b[39m+\u001b[39m lamda1 \u001b[39m*\u001b[39m np\u001b[39m.\u001b[39msum(np\u001b[39m.\u001b[39msum(np\u001b[39m.\u001b[39msquare(U3)))\\\n\u001b[0;32m     <a href='vscode-notebook-cell:/d%3A/course/Big-data/HW2-MD/big-data-HW2%28MD%29.ipynb#X24sZmlsZQ%3D%3D?line=9'>10</a>\u001b[0m        \u001b[39m+\u001b[39m lamda1 \u001b[39m*\u001b[39m np\u001b[39m.\u001b[39msum(np\u001b[39m.\u001b[39msum(np\u001b[39m.\u001b[39msquare(V3)))\n\u001b[0;32m     <a href='vscode-notebook-cell:/d%3A/course/Big-data/HW2-MD/big-data-HW2%28MD%29.ipynb#X24sZmlsZQ%3D%3D?line=10'>11</a>\u001b[0m \u001b[39mprint\u001b[39m(i)\n",
      "File \u001b[1;32m<__array_function__ internals>:180\u001b[0m, in \u001b[0;36mdot\u001b[1;34m(*args, **kwargs)\u001b[0m\n",
      "\u001b[1;31mKeyboardInterrupt\u001b[0m: "
     ]
    }
   ],
   "source": [
    "for i in range(200):\n",
    "    dU = np.dot(np.multiply(A, (np.dot(U2, V2.T) - X_train)), V2) + 2 * lamda1 * U2\n",
    "    dV = np.dot(np.multiply(A, (np.dot(U2, V2.T) - X_train)), U2) + 2 * lamda1 * V2\n",
    "    old_U = U2\n",
    "    old_V = V2\n",
    "    U2 = U2 - alpha/(1+0.1*i) * dU # Learning rate decay\n",
    "    V2 = V2 - alpha/(1+0.1*i) * dV\n",
    "    J[i, 1] = 1/2*np.sum(np.sum(np.square(np.multiply(A, (X_train - np.dot(U2, V2.T)))))) + lamda1 * np.sum(np.sum(np.square(U2)))\\\n",
    "           + lamda1 * np.sum(np.sum(np.square(V2)))"
   ]
  }
 ],
 "metadata": {
  "kernelspec": {
   "display_name": "Python 3.9.13",
   "language": "python",
   "name": "python3"
  },
  "language_info": {
   "codemirror_mode": {
    "name": "ipython",
    "version": 3
   },
   "file_extension": ".py",
   "mimetype": "text/x-python",
   "name": "python",
   "nbconvert_exporter": "python",
   "pygments_lexer": "ipython3",
   "version": "3.9.13"
  },
  "vscode": {
   "interpreter": {
    "hash": "49418117e3467ad040f328a538709f0a31be17b9d7cca48f864682de9e3fed76"
   }
  }
 },
 "nbformat": 4,
 "nbformat_minor": 5
}
